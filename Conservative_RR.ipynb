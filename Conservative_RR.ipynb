{
 "cells": [
  {
   "cell_type": "markdown",
   "metadata": {},
   "source": [
    "# Conservative Redundancy Reduction (CRR) Algorithm Implementation"
   ]
  },
  {
   "cell_type": "code",
   "execution_count": 1,
   "metadata": {},
   "outputs": [
    {
     "name": "stdout",
     "output_type": "stream",
     "text": [
      "importing Jupyter notebook from Dynamic_tw.ipynb\n"
     ]
    }
   ],
   "source": [
    "#Importing the necessary packages\n",
    "import import_ipynb\n",
    "import numpy as np\n",
    "import pandas as pd\n",
    "from matplotlib import pyplot as plt\n",
    "from sklearn.datasets import load_breast_cancer\n",
    "from sklearn.metrics import confusion_matrix\n",
    "from sklearn.neighbors import KNeighborsClassifier  \n",
    "from sklearn.model_selection import train_test_split\n",
    "import seaborn as sns\n",
    "sns.set()\n",
    "import dataset_loader as dl\n",
    "import time\n",
    "from scipy.spatial import distance\n",
    "import sklearn\n",
    "from sklearn.metrics import accuracy_score\n",
    "from sklearn.neighbors import KNeighborsClassifier\n",
    "import timeit\n",
    "import copy\n",
    "import time\n",
    "from sklearn.neighbors import NearestNeighbors\n",
    "import Dynamic_tw\n",
    "from Dynamic_tw import dtw\n",
    "from Dynamic_tw import DTW"
   ]
  },
  {
   "cell_type": "markdown",
   "metadata": {},
   "source": [
    "The **crr** function takes the training data as the parameters and produces an edited case-base produced by the CRR implementation. This function is used in the Core Analysis, where the Euclidean Distance Metric is used to calculate the similarities between two cases:"
   ]
  },
  {
   "cell_type": "code",
   "execution_count": 2,
   "metadata": {},
   "outputs": [],
   "source": [
    "def crr(X_train, y_train):\n",
    "    tmp=0\n",
    "    training=pd.DataFrame(X_train) #features\n",
    "    training[\"Class\"]=y_train #labels\n",
    "    start=time.time()\n",
    "    nbrs = NearestNeighbors(n_neighbors=X_train.shape[0]).fit(X_train) #Forming neighborhood list for each target case\n",
    "    distances, indices = nbrs.kneighbors(X_train)\n",
    "    import copy\n",
    "    indices2=copy.copy(indices)\n",
    "\n",
    "    ind=[]\n",
    "    ind2=[]\n",
    "    #Filtering the neighborhood list and retaining only those cases which have the same class label as the target case\n",
    "    for x in indices:\n",
    "        ind=[]\n",
    "        for y in x:\n",
    "            if training.at[x[0],\"Class\"] is not None and training.at[y,\"Class\"] is not None:\n",
    "                if training.at[x[0],\"Class\"]==training.at[y,\"Class\"] :\n",
    "                    ind.append(y)\n",
    "                else:\n",
    "                    break\n",
    "        ind2.append(ind)\n",
    "        \n",
    "    #Sorting the new list\n",
    "    newlist = sorted(ind2, key=len)\n",
    "\n",
    "    training2=copy.copy(training)\n",
    "    training2['rown'] = np.arange(len(training2))\n",
    "\n",
    "    i=0\n",
    "    eset=pd.DataFrame()\n",
    "    #Keeping the first element of each list and removing the rest of the elements from the training set, and continuing it till the training set is empty\n",
    "    while not training2.empty and i<len(newlist):\n",
    "        if training2.loc[training2['rown']==newlist[i][0]] is not None:\n",
    "            eset=eset.append(training2.loc[training2['rown']==newlist[i][0]])\n",
    "        for x in newlist[i]:\n",
    "            training2=training2.drop(training2[training2['rown']==x].index)\n",
    "        i=i+1\n",
    "    end=time.time()\n",
    "    tmp=(end-start)\n",
    "    del eset[\"rown\"]\n",
    "    return eset,tmp #Returning the Edited Case-Base"
   ]
  },
  {
   "cell_type": "markdown",
   "metadata": {},
   "source": [
    "The **crr2** function takes the training data as the parameters and produces an edited case-base produced by the CRR implementation. This function is used in the Advanced Analysis, where the Dynamic Time Warping Distance Metric is used to calculate the similarities between two cases:"
   ]
  },
  {
   "cell_type": "code",
   "execution_count": 3,
   "metadata": {},
   "outputs": [],
   "source": [
    "def crr2(X_train, y_train):\n",
    "    tmp=0\n",
    "    training=pd.DataFrame(X_train)\n",
    "    training[\"Class\"]=y_train\n",
    "    start=time.time()\n",
    "    indices=dtw(X_train) #Forming neighborhood list for each target case using the implemented dtw function in the Dynamic Time Warping Notebook\n",
    "    indices2=copy.copy(indices)\n",
    "\n",
    "    ind=[]\n",
    "    ind2=[]\n",
    "    #Filtering the neighborhood list and retaining only those cases which have the same class label as the target case\n",
    "    for x in indices:\n",
    "        ind=[]\n",
    "        for y in x:\n",
    "            if training.at[x[0],\"Class\"] is not None and training.at[y,\"Class\"] is not None:\n",
    "                if training.at[x[0],\"Class\"]==training.at[y,\"Class\"] :\n",
    "                    ind.append(y)\n",
    "                else:\n",
    "                    break\n",
    "        ind2.append(ind)\n",
    "        \n",
    "    #Sorting the new list\n",
    "    newlist = sorted(ind2, key=len)\n",
    "\n",
    "    training2=copy.copy(training)\n",
    "    training2['rown'] = np.arange(len(training2))\n",
    "\n",
    "    i=0\n",
    "    eset=pd.DataFrame()\n",
    "    #Keeping the first element of each list and removing the rest of the elements from the training set, and continuing it till the training set is empty\n",
    "    while not training2.empty and i<len(newlist):\n",
    "        if training2.loc[training2['rown']==newlist[i][0]] is not None:\n",
    "            eset=eset.append(training2.loc[training2['rown']==newlist[i][0]])\n",
    "        for x in newlist[i]:\n",
    "            training2=training2.drop(training2[training2['rown']==x].index)\n",
    "        i=i+1\n",
    "    end=time.time()\n",
    "    tmp=(end-start)\n",
    "    del eset[\"rown\"]\n",
    "    return eset,tmp #Returning the Edited Case-Base"
   ]
  }
 ],
 "metadata": {
  "kernelspec": {
   "display_name": "Python 3",
   "language": "python",
   "name": "python3"
  },
  "language_info": {
   "codemirror_mode": {
    "name": "ipython",
    "version": 3
   },
   "file_extension": ".py",
   "mimetype": "text/x-python",
   "name": "python",
   "nbconvert_exporter": "python",
   "pygments_lexer": "ipython3",
   "version": "3.7.4"
  }
 },
 "nbformat": 4,
 "nbformat_minor": 2
}
