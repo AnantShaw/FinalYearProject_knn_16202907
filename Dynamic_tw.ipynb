{
 "cells": [
  {
   "cell_type": "markdown",
   "metadata": {},
   "source": [
    "# Dynamic Time Warping (DTW) Implementation"
   ]
  },
  {
   "cell_type": "code",
   "execution_count": 1,
   "metadata": {},
   "outputs": [],
   "source": [
    "#importing all the necessary packages\n",
    "import import_ipynb\n",
    "import numpy as np\n",
    "import pandas as pd\n",
    "from matplotlib import pyplot as plt\n",
    "from sklearn.datasets import load_breast_cancer\n",
    "from sklearn.metrics import confusion_matrix\n",
    "from sklearn.neighbors import KNeighborsClassifier  \n",
    "from sklearn.model_selection import train_test_split\n",
    "import seaborn as sns\n",
    "sns.set()\n",
    "import dataset_loader as dl\n",
    "import time\n",
    "from scipy.spatial import distance\n",
    "import sklearn\n",
    "from sklearn.metrics import accuracy_score\n",
    "from sklearn.neighbors import KNeighborsClassifier\n",
    "import timeit"
   ]
  },
  {
   "cell_type": "markdown",
   "metadata": {},
   "source": [
    "The following function inplements the Dynamic Time Warping Distance Metric. This Python code was taken from an example in the article, Dynamic Time Warping, by Jeremy Zhang (2020) \n",
    "https://towardsdatascience.com/dynamic-time-warping-3933f25fcdd"
   ]
  },
  {
   "cell_type": "code",
   "execution_count": 2,
   "metadata": {},
   "outputs": [],
   "source": [
    "def DTW(a,b):\n",
    "    n,m=a.size,b.size\n",
    "    m_dtw=np.zeros((n+1, m+1))\n",
    "    for i in range(n+1):\n",
    "        for j in range(m+1):\n",
    "            m_dtw[i, j]=np.inf\n",
    "    m_dtw[0, 0]=0\n",
    "    for i in range(1, n+1):\n",
    "        for j in range(1, m+1):\n",
    "            a_cost=abs(a[i-1] - b[j-1])\n",
    "            last_min=np.min([m_dtw[i-1, j],m_dtw[i, j-1],m_dtw[i-1, j-1]])\n",
    "            m_dtw[i, j]=a_cost + last_min\n",
    "    return m_dtw[n][m] #The last element of the matrix is the distance between the two cases a and b"
   ]
  },
  {
   "cell_type": "markdown",
   "metadata": {},
   "source": [
    "The following function uses the above implemented distance metric and produces an indices matric, where each row is the neighborhood list for a target case, in descending order of similarity (i.e, increasing order of distance):"
   ]
  },
  {
   "cell_type": "code",
   "execution_count": 3,
   "metadata": {},
   "outputs": [],
   "source": [
    "def dtw(X_train):\n",
    "    M=np.zeros((X_train.shape[0],X_train.shape[0]))\n",
    "    for a in range(0,X_train.shape[0]):\n",
    "        for b in range(0,X_train.shape[0]):\n",
    "            n,m=len(X_train[a]),len(X_train[b])\n",
    "            m_dtw=np.zeros((n+1, m+1))\n",
    "            for i in range(n+1):\n",
    "                for j in range(m+1):\n",
    "                    m_dtw[i, j]=np.inf\n",
    "            m_dtw[0,0]=0\n",
    "            for i in range(1,n+1):\n",
    "                for j in range(1,m+1):\n",
    "                    a_cost=abs(X_train[a][i-1]-X_train[b][j-1])\n",
    "                    last_min=np.min([m_dtw[i-1, j],m_dtw[i, j-1],m_dtw[i-1,j-1]])\n",
    "                    m_dtw[i, j]=a_cost + last_min\n",
    "            M[a][b]=m_dtw[n][m]\n",
    "        X=pd.DataFrame()\n",
    "        X['values']=M[a]\n",
    "        X['rown'] = np.arange(len(X))\n",
    "        M[a]=[x for _,x in sorted(zip(X['values'],X['rown']))]\n",
    "    M=M.astype(int)\n",
    "    return M #M is the indices matrix with the neighborhood list for all the target cases"
   ]
  }
 ],
 "metadata": {
  "kernelspec": {
   "display_name": "Python 3",
   "language": "python",
   "name": "python3"
  },
  "language_info": {
   "codemirror_mode": {
    "name": "ipython",
    "version": 3
   },
   "file_extension": ".py",
   "mimetype": "text/x-python",
   "name": "python",
   "nbconvert_exporter": "python",
   "pygments_lexer": "ipython3",
   "version": "3.7.4"
  }
 },
 "nbformat": 4,
 "nbformat_minor": 2
}
