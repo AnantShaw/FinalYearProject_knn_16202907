{
 "cells": [
  {
   "cell_type": "markdown",
   "metadata": {},
   "source": [
    "# K-NN SPEEDUP\n",
    "\n",
    "The following project carries out the various k-nn speedup strategies on 9 different datasets and compares their accuracies and speed.\n",
    "\n",
    "### Objectives:\n",
    "\n",
    "1. The following data structure speedup algorithms are carried out:\n",
    "  \n",
    "  a. K-D Tree  \n",
    "  b. Ball Tree\n",
    "\n",
    "\n",
    "2. The following case base editing strategies are carried out:\n",
    "   \n",
    "  a. The Condensed Nearest Neighbor algorithm  \n",
    "  b. The Conservative Redundancy Reduction algorithm\n",
    "  \n",
    "  \n",
    "3. The speed and accuracy of the 2 case base editing strategies are compared with respect to the Brute Force k-nearest neighbor method.\n",
    "\n",
    "\n",
    "4. A Dynamic Time Warping distance metric is implemented to deteermine similarities between cases in datasets containing time-series.\n",
    "\n",
    "\n",
    "5. The case base editing strategies are implemeted on these time-series datasets, and their relative speeds and accuracies are compared."
   ]
  },
  {
   "cell_type": "markdown",
   "metadata": {},
   "source": [
    "Importing all the necessary packages:"
   ]
  },
  {
   "cell_type": "code",
   "execution_count": 1,
   "metadata": {},
   "outputs": [
    {
     "name": "stdout",
     "output_type": "stream",
     "text": [
      "importing Jupyter notebook from Evaluation_Core.ipynb\n",
      "importing Jupyter notebook from Conservative_RR.ipynb\n",
      "importing Jupyter notebook from Dynamic_tw.ipynb\n",
      "importing Jupyter notebook from Evaluation_Advance.ipynb\n"
     ]
    }
   ],
   "source": [
    "import import_ipynb\n",
    "import numpy as np\n",
    "import pandas as pd\n",
    "from matplotlib import pyplot as plt  \n",
    "\n",
    "import dataset_loader as dl #Loading the datasets locally\n",
    "import sklearn\n",
    "from sklearn.model_selection import train_test_split\n",
    "\n",
    "import Evaluation_Core #Notebook for the Core Analysis, with function which takes a dataset and applies the dataset speedup and case base editing strategies, cacluating their respective speeds and accuracies \n",
    "from Evaluation_Core import eval_core_large, eval_core #eval_core_large runs each algorithm once on the large dataset, while the eval_core function runs the algorithms a total of 100 times on the relatively smaller datasets\n",
    "\n",
    "import Evaluation_Advance #Notebook for the Advanced Analysis, with function which takes a dataset and applies the dataset speedup and case base editing strategies, cacluating their respective speeds and accuracies\n",
    "from Evaluation_Advance import eval_advance"
   ]
  },
  {
   "cell_type": "markdown",
   "metadata": {},
   "source": [
    "We now import all the datasets required for the Core Analysis:"
   ]
  },
  {
   "cell_type": "code",
   "execution_count": 2,
   "metadata": {},
   "outputs": [],
   "source": [
    "news=dl.news #Online News Popularity Dataset\n",
    "audit=dl.audit #Audit Dataset\n",
    "wq=dl.wq #Wine Quality Dataset\n",
    "cc=dl.cc #Default of Credit Card Dataset\n",
    "diabetes=dl.diabetes #Diabetes Dataset\n",
    "bn=dl.bn #Banknote authentication dataset\n",
    "sd=dl.sd #Seeds Dataset"
   ]
  },
  {
   "cell_type": "markdown",
   "metadata": {},
   "source": [
    "We now create dataframes to store the results for the different datasets. An extra dataframe is created for each dataset, to store Brute Force relative time and accuracies for each algorithm for the display of the  results. "
   ]
  },
  {
   "cell_type": "code",
   "execution_count": 3,
   "metadata": {},
   "outputs": [],
   "source": [
    "results1=pd.DataFrame(columns=['Algorithms','Algorithm time','Brute force time','Brute force accuracy','Ball tree time','Ball tree accuracy','KD tree time','KD tree accuracy','Dataset Size'])\n",
    "results1['Algorithms']=[\"None\",\"CNN\",\"CRR\"]\n",
    "results2=pd.DataFrame(columns=['Algorithms','Algorithm time','Brute force time','Brute force accuracy','Ball tree time','Ball tree accuracy','KD tree time','KD tree accuracy','Dataset Size'])\n",
    "results2['Algorithms']=[\"None\",\"CNN\",\"CRR\"]\n",
    "results3=pd.DataFrame(columns=['Algorithms','Algorithm time','Brute force time','Brute force accuracy','Ball tree time','Ball tree accuracy','KD tree time','KD tree accuracy','Dataset Size'])\n",
    "results3['Algorithms']=[\"None\",\"CNN\",\"CRR\"]\n",
    "results4=pd.DataFrame(columns=['Algorithms','Algorithm time','Brute force time','Brute force accuracy','Ball tree time','Ball tree accuracy','KD tree time','KD tree accuracy','Dataset Size'])\n",
    "results4['Algorithms']=[\"None\",\"CNN\",\"CRR\"]\n",
    "results5=pd.DataFrame(columns=['Algorithms','Algorithm time','Brute force time','Brute force accuracy','Ball tree time','Ball tree accuracy','KD tree time','KD tree accuracy','Dataset Size'])\n",
    "results5['Algorithms']=[\"None\",\"CNN\",\"CRR\"]\n",
    "results6=pd.DataFrame(columns=['Algorithms','Algorithm time','Brute force time','Brute force accuracy','Ball tree time','Ball tree accuracy','KD tree time','KD tree accuracy','Dataset Size'])\n",
    "results6['Algorithms']=[\"None\",\"CNN\",\"CRR\"]\n",
    "results7=pd.DataFrame(columns=['Algorithms','Algorithm time','Brute force time','Brute force accuracy','Ball tree time','Ball tree accuracy','KD tree time','KD tree accuracy','Dataset Size'])\n",
    "results7['Algorithms']=[\"None\",\"CNN\",\"CRR\"]\n",
    "results_adv1=pd.DataFrame(columns=['Algorithms','Algorithm time','Brute force time','Brute force accuracy','Ball tree time','Ball tree accuracy','KD tree time','KD tree accuracy','Dataset Size'])\n",
    "results_adv1['Algorithms']=[\"None\",\"CNN\",\"CRR\"]\n",
    "results_adv2=pd.DataFrame(columns=['Algorithms','Algorithm time','Brute force time','Brute force accuracy','Ball tree time','Ball tree accuracy','KD tree time','KD tree accuracy','Dataset Size'])\n",
    "results_adv2['Algorithms']=[\"None\",\"CNN\",\"CRR\"]\n",
    "\n",
    "results1_chart=pd.DataFrame()\n",
    "results2_chart=pd.DataFrame()\n",
    "results3_chart=pd.DataFrame()\n",
    "results4_chart=pd.DataFrame()\n",
    "results5_chart=pd.DataFrame()\n",
    "results6_chart=pd.DataFrame()\n",
    "results7_chart=pd.DataFrame()\n",
    "results_adv1_chart=pd.DataFrame()\n",
    "results_adv2_chart=pd.DataFrame()"
   ]
  },
  {
   "cell_type": "markdown",
   "metadata": {},
   "source": [
    "# Core Analysis\n",
    "\n",
    "Below, we carry out the Core Analysis on the 7 chosen datasets:"
   ]
  },
  {
   "cell_type": "markdown",
   "metadata": {},
   "source": [
    "### Dataset 1\n",
    "\n",
    "This dataset contains the Banknote Authentication data. It has 4 features for each case, and one classification target case."
   ]
  },
  {
   "cell_type": "markdown",
   "metadata": {},
   "source": [
    "We now divide the data into the feature set and the target set."
   ]
  },
  {
   "cell_type": "code",
   "execution_count": 4,
   "metadata": {},
   "outputs": [
    {
     "data": {
      "text/plain": [
       "((1372, 4), (1372,))"
      ]
     },
     "execution_count": 4,
     "metadata": {},
     "output_type": "execute_result"
    }
   ],
   "source": [
    "X =bn.iloc[:, :-1].values #feature set\n",
    "y =bn.iloc[:, 4].values #target set\n",
    "X.shape,y.shape #checking the size for each set"
   ]
  },
  {
   "cell_type": "markdown",
   "metadata": {},
   "source": [
    "We split the data into training and test data with a train test split of 70:30."
   ]
  },
  {
   "cell_type": "code",
   "execution_count": 5,
   "metadata": {
    "scrolled": true
   },
   "outputs": [],
   "source": [
    "X_train, X_test, y_train, y_test = train_test_split(X, y, test_size=0.30, random_state=0) #random state makes sure we get the same train test split in each run"
   ]
  },
  {
   "cell_type": "markdown",
   "metadata": {},
   "source": [
    "We call the eval_core function from the Evaluation_Core Notebook to carry out the dataset speedup and case base editing strategies on the dataset, and return the results in the form of their accuracies, speeds, and the resultant case base size for the case base editing methods. The predictions are ececuted 100 times in a loop to get a mean of the prediction time."
   ]
  },
  {
   "cell_type": "code",
   "execution_count": 6,
   "metadata": {},
   "outputs": [],
   "source": [
    "results1,results1_chart,cnn_size,crr_size=eval_core(X_train,y_train,X_test,y_test) #Passing the Training and the Test data to carry out the methods"
   ]
  },
  {
   "cell_type": "markdown",
   "metadata": {},
   "source": [
    "### Dataset 2\n",
    "\n",
    "This dataset contains the Audit data. It has 25 features for each case, and one classification target case."
   ]
  },
  {
   "cell_type": "markdown",
   "metadata": {},
   "source": [
    "We now divide the data into the feature set and the target set."
   ]
  },
  {
   "cell_type": "code",
   "execution_count": 7,
   "metadata": {
    "scrolled": true
   },
   "outputs": [
    {
     "data": {
      "text/plain": [
       "((775, 25), (775,))"
      ]
     },
     "execution_count": 7,
     "metadata": {},
     "output_type": "execute_result"
    }
   ],
   "source": [
    "X =audit.iloc[:, :-1].values\n",
    "y =audit.iloc[:, 25].values\n",
    "X.shape,y.shape"
   ]
  },
  {
   "cell_type": "markdown",
   "metadata": {},
   "source": [
    "We split the data into training and test data with a train test split of 70:30."
   ]
  },
  {
   "cell_type": "code",
   "execution_count": 8,
   "metadata": {},
   "outputs": [],
   "source": [
    "X_train, X_test, y_train, y_test = train_test_split(X, y, test_size=0.30, random_state=0)"
   ]
  },
  {
   "cell_type": "markdown",
   "metadata": {},
   "source": [
    "Calling the eval_core function again:"
   ]
  },
  {
   "cell_type": "code",
   "execution_count": 9,
   "metadata": {},
   "outputs": [],
   "source": [
    "results2,results2_chart,cnn_size,crr_size=eval_core(X_train,y_train,X_test,y_test)"
   ]
  },
  {
   "cell_type": "markdown",
   "metadata": {},
   "source": [
    "### Dataset 3\n",
    "\n",
    "This dataset contains the Wine Quality data. It has 11 features for each case, and one classification target case."
   ]
  },
  {
   "cell_type": "markdown",
   "metadata": {},
   "source": [
    "We now divide the data into the feature set and the target set."
   ]
  },
  {
   "cell_type": "code",
   "execution_count": 10,
   "metadata": {},
   "outputs": [
    {
     "data": {
      "text/plain": [
       "((1599, 11), (1599,))"
      ]
     },
     "execution_count": 10,
     "metadata": {},
     "output_type": "execute_result"
    }
   ],
   "source": [
    "X =wq.iloc[:, :-1].values\n",
    "y =wq.iloc[:, 11].values\n",
    "X.shape,y.shape"
   ]
  },
  {
   "cell_type": "markdown",
   "metadata": {},
   "source": [
    "We split the data into training and test data with a train test split of 70:30."
   ]
  },
  {
   "cell_type": "code",
   "execution_count": 11,
   "metadata": {},
   "outputs": [],
   "source": [
    "X_train, X_test, y_train, y_test = train_test_split(X, y, test_size=0.30, random_state=0)"
   ]
  },
  {
   "cell_type": "markdown",
   "metadata": {},
   "source": [
    "Calling the eval_core function again:"
   ]
  },
  {
   "cell_type": "code",
   "execution_count": 12,
   "metadata": {},
   "outputs": [],
   "source": [
    "results3,results3_chart,cnn_size,crr_size=eval_core(X_train,y_train,X_test,y_test)"
   ]
  },
  {
   "cell_type": "markdown",
   "metadata": {},
   "source": [
    "### Dataset 4\n",
    "\n",
    "This dataset contains the Seeds data. It has 7 features for each case, and one classification target case."
   ]
  },
  {
   "cell_type": "markdown",
   "metadata": {},
   "source": [
    "We now divide the data into the feature set and the target set."
   ]
  },
  {
   "cell_type": "code",
   "execution_count": 13,
   "metadata": {},
   "outputs": [
    {
     "data": {
      "text/plain": [
       "((210, 7), (210,))"
      ]
     },
     "execution_count": 13,
     "metadata": {},
     "output_type": "execute_result"
    }
   ],
   "source": [
    "X =sd.iloc[:, :-1].values\n",
    "y =sd.iloc[:, 7].values\n",
    "X.shape,y.shape"
   ]
  },
  {
   "cell_type": "markdown",
   "metadata": {},
   "source": [
    "We split the data into training and test data with a train test split of 70:30."
   ]
  },
  {
   "cell_type": "code",
   "execution_count": 14,
   "metadata": {},
   "outputs": [],
   "source": [
    "X_train, X_test, y_train, y_test = train_test_split(X, y, test_size=0.30, random_state=0)"
   ]
  },
  {
   "cell_type": "markdown",
   "metadata": {},
   "source": [
    "Calling the eval_core function again:"
   ]
  },
  {
   "cell_type": "code",
   "execution_count": 15,
   "metadata": {},
   "outputs": [],
   "source": [
    "results4,results4_chart,cnn_size,crr_size=eval_core(X_train,y_train,X_test,y_test)"
   ]
  },
  {
   "cell_type": "markdown",
   "metadata": {},
   "source": [
    "### Dataset 5\n",
    "\n",
    "This dataset contains the Diabetes data. It has 8 features for each case, and one classification target case."
   ]
  },
  {
   "cell_type": "markdown",
   "metadata": {},
   "source": [
    "We now divide the data into the feature set and the target set."
   ]
  },
  {
   "cell_type": "code",
   "execution_count": 16,
   "metadata": {},
   "outputs": [
    {
     "data": {
      "text/plain": [
       "((768, 8), (768,))"
      ]
     },
     "execution_count": 16,
     "metadata": {},
     "output_type": "execute_result"
    }
   ],
   "source": [
    "X =diabetes.iloc[:, :-1].values\n",
    "y =diabetes.iloc[:, 8].values\n",
    "X.shape,y.shape"
   ]
  },
  {
   "cell_type": "markdown",
   "metadata": {},
   "source": [
    "We split the data into training and test data with a train test split of 70:30."
   ]
  },
  {
   "cell_type": "code",
   "execution_count": 17,
   "metadata": {},
   "outputs": [],
   "source": [
    "X_train, X_test, y_train, y_test = train_test_split(X, y, test_size=0.30, random_state=0)"
   ]
  },
  {
   "cell_type": "markdown",
   "metadata": {},
   "source": [
    "Calling the eval_core function again:"
   ]
  },
  {
   "cell_type": "code",
   "execution_count": 18,
   "metadata": {},
   "outputs": [],
   "source": [
    "results5,results5_chart,cnn_size,crr_size=eval_core(X_train,y_train,X_test,y_test)"
   ]
  },
  {
   "cell_type": "markdown",
   "metadata": {},
   "source": [
    "### Dataset 6\n",
    "\n",
    "This dataset contains the Online News Popularity data. It has 59 features for each case, and one classification target case."
   ]
  },
  {
   "cell_type": "markdown",
   "metadata": {},
   "source": [
    "We now divide the data into the feature set and the target set."
   ]
  },
  {
   "cell_type": "code",
   "execution_count": 24,
   "metadata": {},
   "outputs": [
    {
     "data": {
      "text/plain": [
       "((39644, 59), (39644,))"
      ]
     },
     "execution_count": 24,
     "metadata": {},
     "output_type": "execute_result"
    }
   ],
   "source": [
    "X =news.iloc[:, :-1].values\n",
    "y =news['shares'].values\n",
    "X.shape,y.shape"
   ]
  },
  {
   "cell_type": "markdown",
   "metadata": {},
   "source": [
    "We split the data into training and test data with a train test split of 70:30."
   ]
  },
  {
   "cell_type": "code",
   "execution_count": 25,
   "metadata": {},
   "outputs": [],
   "source": [
    "X_train, X_test, y_train, y_test = train_test_split(X, y, test_size=0.80, random_state=0)"
   ]
  },
  {
   "cell_type": "markdown",
   "metadata": {},
   "source": [
    "We call the eval_core_large function from the Evaluation_Core Notebook and pass the training and test data to carry out the dataset speedup and case base editing strategies on the dataset, and return the results in the form of their accuracies, speeds, and the resultant case base size for the case base editing methods. The prediction is executed only once due to the large case-base size."
   ]
  },
  {
   "cell_type": "code",
   "execution_count": 26,
   "metadata": {},
   "outputs": [],
   "source": [
    "results6,results6_chart,cnn_size,crr_size=eval_core_large(X_train,y_train,X_test,y_test)"
   ]
  },
  {
   "cell_type": "markdown",
   "metadata": {},
   "source": [
    "### Dataset 7\n",
    "\n",
    "This dataset contains the Default of Credit Card data. It has 23 features for each case, and one classification target case."
   ]
  },
  {
   "cell_type": "markdown",
   "metadata": {},
   "source": [
    "We now divide the data into the feature set and the target set."
   ]
  },
  {
   "cell_type": "code",
   "execution_count": 32,
   "metadata": {},
   "outputs": [
    {
     "data": {
      "text/plain": [
       "((30000, 23), (30000,))"
      ]
     },
     "execution_count": 32,
     "metadata": {},
     "output_type": "execute_result"
    }
   ],
   "source": [
    "X =cc.iloc[:, :-1].values\n",
    "y =cc.iloc[:, 23].values\n",
    "X.shape,y.shape"
   ]
  },
  {
   "cell_type": "markdown",
   "metadata": {},
   "source": [
    "We split the data into training and test data with a train test split of 70:30."
   ]
  },
  {
   "cell_type": "code",
   "execution_count": 33,
   "metadata": {},
   "outputs": [],
   "source": [
    "X_train, X_test, y_train, y_test = train_test_split(X, y, test_size=0.60, random_state=0)"
   ]
  },
  {
   "cell_type": "markdown",
   "metadata": {},
   "source": [
    "We call the eval_core_large function again:"
   ]
  },
  {
   "cell_type": "code",
   "execution_count": 34,
   "metadata": {},
   "outputs": [],
   "source": [
    "results7,results7_chart,cnn_size,crr_size=eval_core_large(X_train,y_train,X_test,y_test)"
   ]
  },
  {
   "cell_type": "markdown",
   "metadata": {},
   "source": [
    "## Core Analysis Results"
   ]
  },
  {
   "cell_type": "markdown",
   "metadata": {},
   "source": [
    "**We now analyse the results for all the 7 datasets.**"
   ]
  },
  {
   "cell_type": "markdown",
   "metadata": {},
   "source": [
    "The following dataframe stores the results for the speed comparison of Brute Force, Ball Tree and K-D Tree algorithms:"
   ]
  },
  {
   "cell_type": "code",
   "execution_count": 35,
   "metadata": {},
   "outputs": [],
   "source": [
    "results_average_2=pd.DataFrame() #These results are the speed comparison of Brute Force, Ball Tree and K-D Tree algorithms\n",
    "results_average_2['Time wrt BF']=[(((results6['Brute force time'][0]/results6['Brute force time'][0])+(results7['Brute force time'][0]/results7['Brute force time'][0]))/2),(((results6['Ball tree time'][0]/results6['Brute force time'][0])+(results7['Ball tree time'][0]/results7['Brute force time'][0]))/2),(((results6['KD tree time'][0]/results6['Brute force time'][0])+(results7['KD tree time'][0]/results7['Brute force time'][0]))/2)]"
   ]
  },
  {
   "cell_type": "markdown",
   "metadata": {},
   "source": [
    "The results_average dataframe takes an average of the results over all the 7 datasets:"
   ]
  },
  {
   "cell_type": "code",
   "execution_count": 70,
   "metadata": {},
   "outputs": [],
   "source": [
    "results_average=pd.DataFrame()\n",
    "results_average['Algorithms']=[\"None\",\"CNN\",\"CRR\"]\n",
    "#Calculating average results over all the datasets\n",
    "results_average['Accuracy wrt BF']=[(results1_chart['Accuracy wrt BF'][0]+results2_chart['Accuracy wrt BF'][0]+results3_chart['Accuracy wrt BF'][0]+results4_chart['Accuracy wrt BF'][0]+results5_chart['Accuracy wrt BF'][0]+results6_chart['Accuracy wrt BF'][0]+results7_chart['Accuracy wrt BF'][0])/7,(results1_chart['Accuracy wrt BF'][1]+results2_chart['Accuracy wrt BF'][1]+results3_chart['Accuracy wrt BF'][1]+results4_chart['Accuracy wrt BF'][1]+results5_chart['Accuracy wrt BF'][1]+results6_chart['Accuracy wrt BF'][1]+results7_chart['Accuracy wrt BF'][1])/7,(results1_chart['Accuracy wrt BF'][2]+results2_chart['Accuracy wrt BF'][2]+results3_chart['Accuracy wrt BF'][2]+results4_chart['Accuracy wrt BF'][2]+results5_chart['Accuracy wrt BF'][2]+results6_chart['Accuracy wrt BF'][2]+results7_chart['Accuracy wrt BF'][2])/7]\n",
    "results_average['Dataset Size wrt BF']=[(results1_chart['Dataset Size wrt BF'][0]+results2_chart['Dataset Size wrt BF'][0]+results3_chart['Dataset Size wrt BF'][0]+results4_chart['Dataset Size wrt BF'][0]+results5_chart['Dataset Size wrt BF'][0]+results6_chart['Dataset Size wrt BF'][0]+results7_chart['Dataset Size wrt BF'][0])/7,(results1_chart['Dataset Size wrt BF'][1]+results2_chart['Dataset Size wrt BF'][1]+results3_chart['Dataset Size wrt BF'][1]+results4_chart['Dataset Size wrt BF'][1]+results5_chart['Dataset Size wrt BF'][1]+results6_chart['Dataset Size wrt BF'][1]+results7_chart['Dataset Size wrt BF'][1])/7,(results1_chart['Dataset Size wrt BF'][2]+results2_chart['Dataset Size wrt BF'][2]+results3_chart['Dataset Size wrt BF'][2]+results4_chart['Dataset Size wrt BF'][2]+results5_chart['Dataset Size wrt BF'][2]+results6_chart['Dataset Size wrt BF'][2]+results7_chart['Dataset Size wrt BF'][2])/7]\n",
    "results_average['Time wrt BF']=[(results6_chart['Time wrt BF'][0]+results7_chart['Time wrt BF'][0])/2,(results6_chart['Time wrt BF'][1]+results7_chart['Time wrt BF'][1])/2,(results6_chart['Time wrt BF'][2]+results7_chart['Time wrt BF'][2])/2]\n"
   ]
  },
  {
   "cell_type": "markdown",
   "metadata": {},
   "source": [
    "The following dataframe stores the average results of the five smaller datasets:"
   ]
  },
  {
   "cell_type": "code",
   "execution_count": 68,
   "metadata": {},
   "outputs": [],
   "source": [
    "results_average_f5=pd.DataFrame()\n",
    "#Calculating average results over the five smaller datasets\n",
    "results_average_f5['Time wrt BF']=[(results1_chart['Time wrt BF'][0]+results2_chart['Time wrt BF'][0]+results3_chart['Time wrt BF'][0]+results4_chart['Time wrt BF'][0]+results5_chart['Time wrt BF'][0])/5,(results1_chart['Time wrt BF'][1]+results2_chart['Time wrt BF'][1]+results3_chart['Time wrt BF'][1]+results4_chart['Time wrt BF'][1]+results5_chart['Time wrt BF'][1])/5,(results1_chart['Time wrt BF'][2]+results2_chart['Time wrt BF'][2]+results3_chart['Time wrt BF'][2]+results4_chart['Time wrt BF'][2]+results5_chart['Time wrt BF'][2])/5]\n",
    "results_average_f5['Dataset Size wrt BF']=[(results1_chart['Dataset Size wrt BF'][0]+results2_chart['Dataset Size wrt BF'][0]+results3_chart['Dataset Size wrt BF'][0]+results4_chart['Dataset Size wrt BF'][0]+results5_chart['Dataset Size wrt BF'][0])/5,(results1_chart['Dataset Size wrt BF'][1]+results2_chart['Dataset Size wrt BF'][1]+results3_chart['Dataset Size wrt BF'][1]+results4_chart['Dataset Size wrt BF'][1]+results5_chart['Dataset Size wrt BF'][1])/5,(results1_chart['Dataset Size wrt BF'][2]+results2_chart['Dataset Size wrt BF'][2]+results3_chart['Dataset Size wrt BF'][2]+results4_chart['Dataset Size wrt BF'][2]+results5_chart['Dataset Size wrt BF'][2])/5]\n"
   ]
  },
  {
   "cell_type": "markdown",
   "metadata": {},
   "source": [
    "results_average_l2 stores the average results of the two larger datasets:"
   ]
  },
  {
   "cell_type": "code",
   "execution_count": 38,
   "metadata": {},
   "outputs": [],
   "source": [
    "results_average_l2=pd.DataFrame()\n",
    "#Calculating average results over the two larger datasets\n",
    "results_average_l2['Dataset Size wrt BF']=[(results6_chart['Dataset Size wrt BF'][0]+results7_chart['Dataset Size wrt BF'][0])/2,(results6_chart['Dataset Size wrt BF'][1]+results7_chart['Dataset Size wrt BF'][1])/2,(results6_chart['Dataset Size wrt BF'][2]+results7_chart['Dataset Size wrt BF'][2])/2]\n",
    "results_average_l2['Time wrt BF']=[(results6_chart['Time wrt BF'][0]+results7_chart['Time wrt BF'][0])/2,(results6_chart['Time wrt BF'][1]+results7_chart['Time wrt BF'][1])/2,(results6_chart['Time wrt BF'][2]+results7_chart['Time wrt BF'][2])/2]\n"
   ]
  },
  {
   "cell_type": "markdown",
   "metadata": {},
   "source": [
    "Saving the results:"
   ]
  },
  {
   "cell_type": "code",
   "execution_count": 71,
   "metadata": {},
   "outputs": [],
   "source": [
    "results1.to_csv('results/results1.csv')\n",
    "results2.to_csv('results/results2.csv')\n",
    "results3.to_csv('results/results3.csv')\n",
    "results4.to_csv('results/results4.csv')\n",
    "results5.to_csv('results/results5.csv')\n",
    "results6.to_csv('results/results6.csv')\n",
    "results7.to_csv('results/results7.csv')\n",
    "results_average.to_csv('results/results_core_average.csv')\n",
    "results_average_2.to_csv('results/results_bf_bt_kd.csv')\n",
    "results_average_f5.to_csv('results/results_average_f5.csv')\n",
    "results_average_l2.to_csv('results/results_average_l2.csv')"
   ]
  },
  {
   "cell_type": "markdown",
   "metadata": {},
   "source": [
    "Results for the Banknote Dataset:"
   ]
  },
  {
   "cell_type": "code",
   "execution_count": 43,
   "metadata": {},
   "outputs": [
    {
     "data": {
      "image/png": "[encoded data removed]",
      "text/plain": [
       "<Figure size 432x288 with 1 Axes>"
      ]
     },
     "metadata": {
      "needs_background": "light"
     },
     "output_type": "display_data"
    }
   ],
   "source": [
    "barWidth = 0.25\n",
    "bars1=(results1_chart[\"Time wrt BF\"].values)\n",
    "bars2=(results1_chart[\"Accuracy wrt BF\"].values)\n",
    "bars3=(results1_chart[\"Dataset Size wrt BF\"].values)\n",
    "r1 = np.arange(len(bars1))\n",
    "r2 = [x + barWidth for x in r1]\n",
    "r3 = [x + barWidth for x in r2]\n",
    "#Preparing the Plot\n",
    "fig = plt.figure()\n",
    "ax = fig.add_axes([0.2, 0.15, 0.6, 0.6])\n",
    "plt.bar(r1, bars1, color='red', width=barWidth, edgecolor='white', label='Time')\n",
    "plt.bar(r2, bars2, color='blue', width=barWidth, edgecolor='white', label='Accuracy')\n",
    "plt.bar(r3, bars3, color='#2d7f5e', width=barWidth, edgecolor='white', label='Dataset Size')\n",
    "#Adding the labels\n",
    "plt.xlabel('Algorithm', fontweight='bold') \n",
    "plt.ylabel('Score w.r.t Brute Force k-NN', fontweight='bold')\n",
    "plt.xticks([r + barWidth for r in range(len(bars1))], ['Brute Force','CNN','CRR'])\n",
    "plt.gca().legend(loc='lower center', bbox_to_anchor=(0.5, 1)) #Placing the legend\n",
    "plt.savefig('results/dataset1_result.pdf')  "
   ]
  },
  {
   "cell_type": "markdown",
   "metadata": {},
   "source": [
    "Results for the Audit dataset:"
   ]
  },
  {
   "cell_type": "code",
   "execution_count": 44,
   "metadata": {},
   "outputs": [
    {
     "data": {
      "image/png": "[encoded data removed]",
      "text/plain": [
       "<Figure size 432x288 with 1 Axes>"
      ]
     },
     "metadata": {
      "needs_background": "light"
     },
     "output_type": "display_data"
    }
   ],
   "source": [
    "barWidth = 0.25\n",
    "bars1=(results2_chart[\"Time wrt BF\"].values)\n",
    "bars2=(results2_chart[\"Accuracy wrt BF\"].values)\n",
    "bars3=(results2_chart[\"Dataset Size wrt BF\"].values)\n",
    "r1 = np.arange(len(bars1))\n",
    "r2 = [x + barWidth for x in r1]\n",
    "r3 = [x + barWidth for x in r2]\n",
    "#Preparing the Plot\n",
    "fig = plt.figure()\n",
    "ax = fig.add_axes([0.2, 0.15, 0.6, 0.6])\n",
    "plt.bar(r1, bars1, color='red', width=barWidth, edgecolor='white', label='Time')\n",
    "plt.bar(r2, bars2, color='blue', width=barWidth, edgecolor='white', label='Accuracy')\n",
    "plt.bar(r3, bars3, color='#2d7f5e', width=barWidth, edgecolor='white', label='Dataset Size')\n",
    "#Adding the labels\n",
    "plt.xlabel('Algorithm', fontweight='bold') \n",
    "plt.ylabel('Score w.r.t Brute Force k-NN', fontweight='bold')\n",
    "plt.xticks([r + barWidth for r in range(len(bars1))], ['Brute Force','CNN','CRR'])\n",
    "plt.gca().legend(loc='lower center', bbox_to_anchor=(0.5, 1)) #Placing the legend\n",
    "plt.savefig('results/dataset2_result.pdf')  "
   ]
  },
  {
   "cell_type": "markdown",
   "metadata": {},
   "source": [
    "Results for the Wine Quality dataset:"
   ]
  },
  {
   "cell_type": "code",
   "execution_count": 45,
   "metadata": {},
   "outputs": [
    {
     "data": {
      "image/png": "[encoded data removed]",
      "text/plain": [
       "<Figure size 432x288 with 1 Axes>"
      ]
     },
     "metadata": {
      "needs_background": "light"
     },
     "output_type": "display_data"
    }
   ],
   "source": [
    "barWidth = 0.25\n",
    "bars1=(results3_chart[\"Time wrt BF\"].values)\n",
    "bars2=(results3_chart[\"Accuracy wrt BF\"].values)\n",
    "bars3=(results3_chart[\"Dataset Size wrt BF\"].values)\n",
    "r1 = np.arange(len(bars1))\n",
    "r2 = [x + barWidth for x in r1]\n",
    "r3 = [x + barWidth for x in r2]\n",
    "#Preparing the Plot\n",
    "fig = plt.figure()\n",
    "ax = fig.add_axes([0.2, 0.15, 0.6, 0.6])\n",
    "plt.bar(r1, bars1, color='red', width=barWidth, edgecolor='white', label='Time')\n",
    "plt.bar(r2, bars2, color='blue', width=barWidth, edgecolor='white', label='Accuracy')\n",
    "plt.bar(r3, bars3, color='#2d7f5e', width=barWidth, edgecolor='white', label='Dataset Size')\n",
    "#Adding the labels\n",
    "plt.xlabel('Algorithm', fontweight='bold') \n",
    "plt.ylabel('Score w.r.t Brute Force k-NN', fontweight='bold')\n",
    "plt.xticks([r + barWidth for r in range(len(bars1))], ['Brute Force','CNN','CRR'])\n",
    "plt.gca().legend(loc='lower center', bbox_to_anchor=(0.5, 1)) #Placing the legend\n",
    "plt.savefig('results/dataset3_result.pdf')  "
   ]
  },
  {
   "cell_type": "markdown",
   "metadata": {},
   "source": [
    "Results for the Seeds dataset:"
   ]
  },
  {
   "cell_type": "code",
   "execution_count": 46,
   "metadata": {},
   "outputs": [
    {
     "data": {
      "image/png": "[encoded data removed]",
      "text/plain": [
       "<Figure size 432x288 with 1 Axes>"
      ]
     },
     "metadata": {
      "needs_background": "light"
     },
     "output_type": "display_data"
    }
   ],
   "source": [
    "barWidth = 0.25\n",
    "bars1=(results4_chart[\"Time wrt BF\"].values)\n",
    "bars2=(results4_chart[\"Accuracy wrt BF\"].values)\n",
    "bars3=(results4_chart[\"Dataset Size wrt BF\"].values)\n",
    "r1 = np.arange(len(bars1))\n",
    "r2 = [x + barWidth for x in r1]\n",
    "r3 = [x + barWidth for x in r2]\n",
    "#Preparing the Plot\n",
    "fig = plt.figure()\n",
    "ax = fig.add_axes([0.2, 0.15, 0.6, 0.6])\n",
    "plt.bar(r1, bars1, color='red', width=barWidth, edgecolor='white', label='Time')\n",
    "plt.bar(r2, bars2, color='blue', width=barWidth, edgecolor='white', label='Accuracy')\n",
    "plt.bar(r3, bars3, color='#2d7f5e', width=barWidth, edgecolor='white', label='Dataset Size')\n",
    "#Adding the labels\n",
    "plt.xlabel('Algorithm', fontweight='bold') \n",
    "plt.ylabel('Score w.r.t Brute Force k-NN', fontweight='bold')\n",
    "plt.xticks([r + barWidth for r in range(len(bars1))], ['Brute Force','CNN','CRR'])\n",
    "plt.gca().legend(loc='lower center', bbox_to_anchor=(0.5, 1)) #Placing the legend\n",
    "plt.savefig('results/dataset4_result.pdf')  "
   ]
  },
  {
   "cell_type": "markdown",
   "metadata": {},
   "source": [
    "Results for the Diabetes dataset:"
   ]
  },
  {
   "cell_type": "code",
   "execution_count": 47,
   "metadata": {},
   "outputs": [
    {
     "data": {
      "image/png": "[encoded data removed]",
      "text/plain": [
       "<Figure size 432x288 with 1 Axes>"
      ]
     },
     "metadata": {
      "needs_background": "light"
     },
     "output_type": "display_data"
    }
   ],
   "source": [
    "barWidth = 0.25\n",
    "bars1=(results5_chart[\"Time wrt BF\"].values)\n",
    "bars2=(results5_chart[\"Accuracy wrt BF\"].values)\n",
    "bars3=(results5_chart[\"Dataset Size wrt BF\"].values)\n",
    "r1 = np.arange(len(bars1))\n",
    "r2 = [x + barWidth for x in r1]\n",
    "r3 = [x + barWidth for x in r2]\n",
    "#Preparing the Plot\n",
    "fig = plt.figure()\n",
    "ax = fig.add_axes([0.2, 0.15, 0.6, 0.6])\n",
    "plt.bar(r1, bars1, color='red', width=barWidth, edgecolor='white', label='Time')\n",
    "plt.bar(r2, bars2, color='blue', width=barWidth, edgecolor='white', label='Accuracy')\n",
    "plt.bar(r3, bars3, color='#2d7f5e', width=barWidth, edgecolor='white', label='Dataset Size') \n",
    "#Adding the labels\n",
    "plt.xlabel('Algorithm', fontweight='bold') \n",
    "plt.ylabel('Score w.r.t Brute Force k-NN', fontweight='bold')\n",
    "plt.xticks([r + barWidth for r in range(len(bars1))], ['Brute Force','CNN','CRR'])\n",
    "plt.gca().legend(loc='lower center', bbox_to_anchor=(0.5, 1)) #Placing the legend\n",
    "plt.savefig('results/dataset5_result.pdf')  "
   ]
  },
  {
   "cell_type": "markdown",
   "metadata": {},
   "source": [
    "Results for the Online News Popularity dataset:"
   ]
  },
  {
   "cell_type": "code",
   "execution_count": 48,
   "metadata": {},
   "outputs": [
    {
     "data": {
      "image/png": "[encoded data removed]",
      "text/plain": [
       "<Figure size 432x288 with 1 Axes>"
      ]
     },
     "metadata": {
      "needs_background": "light"
     },
     "output_type": "display_data"
    }
   ],
   "source": [
    "barWidth = 0.25\n",
    "bars1=(results6_chart[\"Time wrt BF\"].values)\n",
    "bars2=(results6_chart[\"Accuracy wrt BF\"].values)\n",
    "bars3=(results6_chart[\"Dataset Size wrt BF\"].values)\n",
    "r1 = np.arange(len(bars1))\n",
    "r2 = [x + barWidth for x in r1]\n",
    "r3 = [x + barWidth for x in r2]\n",
    "#Preparing the Plot\n",
    "fig = plt.figure()\n",
    "ax = fig.add_axes([0.2, 0.15, 0.6, 0.6])\n",
    "plt.bar(r1, bars1, color='red', width=barWidth, edgecolor='white', label='Time')\n",
    "plt.bar(r2, bars2, color='blue', width=barWidth, edgecolor='white', label='Accuracy')\n",
    "plt.bar(r3, bars3, color='#2d7f5e', width=barWidth, edgecolor='white', label='Dataset Size')\n",
    "#Adding the labels\n",
    "plt.xlabel('Algorithm', fontweight='bold') \n",
    "plt.ylabel('Score w.r.t Brute Force k-NN', fontweight='bold')\n",
    "plt.xticks([r + barWidth for r in range(len(bars1))], ['Brute Force','CNN','CRR'])\n",
    "plt.gca().legend(loc='lower center', bbox_to_anchor=(0.5, 1)) #Placing the legend\n",
    "plt.savefig('results/dataset6_result.pdf')  "
   ]
  },
  {
   "cell_type": "markdown",
   "metadata": {},
   "source": [
    "Results for the Default of Credit Card dataset:"
   ]
  },
  {
   "cell_type": "code",
   "execution_count": 49,
   "metadata": {},
   "outputs": [
    {
     "data": {
      "image/png": "[encoded data removed]",
      "text/plain": [
       "<Figure size 432x288 with 1 Axes>"
      ]
     },
     "metadata": {
      "needs_background": "light"
     },
     "output_type": "display_data"
    }
   ],
   "source": [
    "barWidth = 0.25\n",
    "bars1=(results7_chart[\"Time wrt BF\"].values)\n",
    "bars2=(results7_chart[\"Accuracy wrt BF\"].values)\n",
    "bars3=(results7_chart[\"Dataset Size wrt BF\"].values)\n",
    "r1 = np.arange(len(bars1))\n",
    "r2 = [x + barWidth for x in r1]\n",
    "r3 = [x + barWidth for x in r2]\n",
    "#Preparing the Plot\n",
    "fig = plt.figure()\n",
    "ax = fig.add_axes([0.2, 0.15, 0.6, 0.6])\n",
    "plt.bar(r1, bars1, color='red', width=barWidth, edgecolor='white', label='Time')\n",
    "plt.bar(r2, bars2, color='blue', width=barWidth, edgecolor='white', label='Accuracy')\n",
    "plt.bar(r3, bars3, color='#2d7f5e', width=barWidth, edgecolor='white', label='Dataset Size') \n",
    "#Adding the labels\n",
    "plt.xlabel('Algorithm', fontweight='bold') \n",
    "plt.ylabel('Score w.r.t Brute Force k-NN', fontweight='bold')\n",
    "plt.xticks([r + barWidth for r in range(len(bars1))], ['Brute Force','CNN','CRR'])\n",
    "plt.gca().legend(loc='lower center', bbox_to_anchor=(0.5, 1)) #Placing the legend\n",
    "plt.savefig('results/dataset7_result.pdf')  "
   ]
  },
  {
   "cell_type": "markdown",
   "metadata": {},
   "source": [
    "Average results for the five smaller datasets (Banknote, Audit, Wine Quality, Seeds, Diabetes):"
   ]
  },
  {
   "cell_type": "code",
   "execution_count": 50,
   "metadata": {},
   "outputs": [
    {
     "data": {
      "image/png": "[encoded data removed]",
      "text/plain": [
       "<Figure size 432x288 with 1 Axes>"
      ]
     },
     "metadata": {
      "needs_background": "light"
     },
     "output_type": "display_data"
    }
   ],
   "source": [
    "barWidth = 0.25\n",
    "bars1=(results_average_f5[\"Time wrt BF\"].values)\n",
    "bars2=(results_average_f5[\"Dataset Size wrt BF\"].values)\n",
    "r1 = np.arange(len(bars1))\n",
    "r2 = [x + barWidth for x in r1]\n",
    "#Preparing the Plot\n",
    "fig = plt.figure()\n",
    "ax = fig.add_axes([0.2, 0.15, 0.6, 0.6])\n",
    "plt.bar(r1, bars1, color='red', width=barWidth, edgecolor='white', label='Time')\n",
    "plt.bar(r2, bars2, color='blue', width=barWidth, edgecolor='white', label='Dataset Size')\n",
    "#Adding the labels\n",
    "plt.xlabel('Algorithm', fontweight='bold') \n",
    "plt.ylabel('Score w.r.t Brute Force k-NN', fontweight='bold')\n",
    "plt.xticks([r + barWidth for r in range(len(bars1))], ['Brute Force','CNN','CRR'])\n",
    "plt.gca().legend(loc='lower center', bbox_to_anchor=(0.5, 1)) #Placing the legend\n",
    "plt.savefig('results/results_average_f5.pdf')  "
   ]
  },
  {
   "cell_type": "markdown",
   "metadata": {},
   "source": [
    "Average results for the two larger datasets (Online News Popularity, Default of Credit Card):"
   ]
  },
  {
   "cell_type": "code",
   "execution_count": 51,
   "metadata": {},
   "outputs": [
    {
     "data": {
      "image/png": "[encoded data removed]",
      "text/plain": [
       "<Figure size 432x288 with 1 Axes>"
      ]
     },
     "metadata": {
      "needs_background": "light"
     },
     "output_type": "display_data"
    }
   ],
   "source": [
    "barWidth = 0.25\n",
    "bars1=(results_average_l2[\"Time wrt BF\"].values)\n",
    "bars2=(results_average_l2[\"Dataset Size wrt BF\"].values)\n",
    "r1 = np.arange(len(bars1))\n",
    "r2 = [x + barWidth for x in r1]\n",
    "#Preparing the Plot\n",
    "fig = plt.figure()\n",
    "ax = fig.add_axes([0.2, 0.15, 0.6, 0.6])\n",
    "plt.bar(r1, bars1, color='red', width=barWidth, edgecolor='white', label='Time')\n",
    "plt.bar(r2, bars2, color='blue', width=barWidth, edgecolor='white', label='Dataset Size')\n",
    "#Adding the labels\n",
    "plt.xlabel('Algorithm', fontweight='bold') \n",
    "plt.ylabel('Score w.r.t Brute Force k-NN', fontweight='bold')\n",
    "plt.xticks([r + barWidth for r in range(len(bars1))], ['Brute Force','CNN','CRR'])\n",
    "plt.gca().legend(loc='lower center', bbox_to_anchor=(0.5, 1)) #Placing the legend\n",
    "plt.savefig('results/results_average_l2.pdf')"
   ]
  },
  {
   "cell_type": "markdown",
   "metadata": {},
   "source": [
    "Average result over all the seven datasets:"
   ]
  },
  {
   "cell_type": "code",
   "execution_count": 52,
   "metadata": {},
   "outputs": [
    {
     "data": {
      "image/png": "[encoded data removed]",
      "text/plain": [
       "<Figure size 432x288 with 1 Axes>"
      ]
     },
     "metadata": {
      "needs_background": "light"
     },
     "output_type": "display_data"
    }
   ],
   "source": [
    "barWidth = 0.25\n",
    "bars1=(results_average[\"Time wrt BF\"].values)\n",
    "bars2=(results_average[\"Accuracy wrt BF\"].values)\n",
    "bars3=(results_average[\"Dataset Size wrt BF\"].values)\n",
    "r1 = np.arange(len(bars1))\n",
    "r2 = [x + barWidth for x in r1]\n",
    "r3 = [x + barWidth for x in r2]\n",
    "#Preparing the Plot\n",
    "fig = plt.figure()\n",
    "ax = fig.add_axes([0.2, 0.15, 0.6, 0.6])\n",
    "plt.bar(r1, bars1, color='red', width=barWidth, edgecolor='white', label='Time')\n",
    "plt.bar(r2, bars2, color='blue', width=barWidth, edgecolor='white', label='Accuracy')\n",
    "plt.bar(r3, bars3, color='#2d7f5e', width=barWidth, edgecolor='white', label='Dataset Size') \n",
    "#Adding the labels\n",
    "plt.xlabel('Algorithm', fontweight='bold') \n",
    "plt.ylabel('Score w.r.t Brute Force k-NN', fontweight='bold')\n",
    "plt.xticks([r + barWidth for r in range(len(bars1))], ['Brute Force','CNN','CRR'])\n",
    "plt.gca().legend(loc='lower center', bbox_to_anchor=(0.5, 1)) #Placing the legend\n",
    "plt.savefig('results/dataset_average_result_core.pdf')  "
   ]
  },
  {
   "cell_type": "markdown",
   "metadata": {},
   "source": [
    "Average results of the speeds of the Brute Force, Ball Tree and K-D Tree algorithms:"
   ]
  },
  {
   "cell_type": "code",
   "execution_count": 53,
   "metadata": {},
   "outputs": [
    {
     "data": {
      "image/png": "[encoded data removed]",
      "text/plain": [
       "<Figure size 432x288 with 1 Axes>"
      ]
     },
     "metadata": {
      "needs_background": "light"
     },
     "output_type": "display_data"
    }
   ],
   "source": [
    "barWidth = 0.25\n",
    "bars1=(results_average_2[\"Time wrt BF\"].values)\n",
    "r1 = np.arange(len(bars1))\n",
    "#Preparing the Plot\n",
    "plt.bar(r1, bars1, color='red', width=barWidth, edgecolor='white', label='Time')\n",
    "#Adding the labels\n",
    "plt.xlabel('Algorithm', fontweight='bold') \n",
    "plt.ylabel('Score w.r.t Brute Force k-NN', fontweight='bold')\n",
    "plt.xticks([r + barWidth for r in range(len(bars1))], ['Brute Force','Ball tree','KD tree'])\n",
    "plt.gca().legend(loc='lower center', bbox_to_anchor=(0.5, 1)) #Placing the legend\n",
    "plt.savefig('results/dataset_average_result_bf_bt_kd.pdf')"
   ]
  },
  {
   "cell_type": "markdown",
   "metadata": {},
   "source": [
    "# Advanced Analysis"
   ]
  },
  {
   "cell_type": "markdown",
   "metadata": {},
   "source": [
    "### Dataset 1\n",
    "\n",
    "This dataset contains the Smooth Subspace data. It has 15 features for each case, and one classification target case."
   ]
  },
  {
   "cell_type": "markdown",
   "metadata": {},
   "source": [
    "We now divide the data into the feature set and the target set. The dataset is already divided into training and test cases."
   ]
  },
  {
   "cell_type": "code",
   "execution_count": 54,
   "metadata": {},
   "outputs": [],
   "source": [
    "ss_train=pd.DataFrame(dl.ss_train[0])\n",
    "ss_test=pd.DataFrame(dl.ss_test[0])\n",
    "ss_train['target'] =ss_train['target'].map({b'3': '3', b'2': '2',b'1': '1'}) #Converting the classes into decimal classifications\n",
    "ss_test['target'] =ss_test['target'].map({b'3': '3', b'2': '2',b'1': '1'}) #Converting the classes into decimal classifications"
   ]
  },
  {
   "cell_type": "markdown",
   "metadata": {},
   "source": [
    "Gathering the training and test cases:"
   ]
  },
  {
   "cell_type": "code",
   "execution_count": 55,
   "metadata": {},
   "outputs": [],
   "source": [
    "X_train=ss_train.iloc[:, :-1].values\n",
    "y_train=ss_train.iloc[:, 15].values\n",
    "X_test=ss_test.iloc[:, :-1].values\n",
    "y_test=ss_test.iloc[:, 15].values"
   ]
  },
  {
   "cell_type": "markdown",
   "metadata": {},
   "source": [
    "We now call the eval_advance function in the Evaluation_Advance notebook and pass the training and test data, which carries out the dataset speedup and case base editing strategies on the dataset, and returns the results in the form of their accuracies, speeds, and the resultant case base size for the case base editing methods. The Similiarities between cases are calculated the implemented Dynamic Time Warping Distane Metric, unlike the Euclidean Distance Metric used in the Core Analysis."
   ]
  },
  {
   "cell_type": "code",
   "execution_count": 56,
   "metadata": {},
   "outputs": [],
   "source": [
    "results_adv1,results_adv1_chart,cnn_size,crr_size,p,q,p2,q2=eval_advance(X_train,y_train,X_test,y_test)"
   ]
  },
  {
   "cell_type": "markdown",
   "metadata": {},
   "source": [
    "### Dataset 2\n",
    "\n",
    "This dataset contains the Chinatown data. It has 15 features for each case, and one classification target case."
   ]
  },
  {
   "cell_type": "markdown",
   "metadata": {},
   "source": [
    "We now divide the data into the feature set and the target set. The dataset is already divided into training and test cases."
   ]
  },
  {
   "cell_type": "code",
   "execution_count": 57,
   "metadata": {},
   "outputs": [],
   "source": [
    "ct_train=pd.DataFrame(dl.ct_train[0])\n",
    "ct_test=pd.DataFrame(dl.ct_test[0])\n",
    "ct_train=ct_train[~ct_train.isin([np.nan, np.inf, -np.inf]).any(1)] #Removing any null values from the dataset\n",
    "ct_test=ct_test[~ct_test.isin([np.nan, np.inf, -np.inf]).any(1)]\n",
    "ct_train['target'] =ct_train['target'].map({b'3': '3', b'2': '2',b'1': '1', b'4': '4', b'5': '5', b'6': '6', b'7': '7', b'8': '8', b'9': '9', b'10': '10'}) #Converting the classes into decimal classifications\n",
    "ct_test['target'] =ct_test['target'].map({b'3': '3', b'2': '2',b'1': '1', b'4': '4', b'5': '5', b'6': '6', b'7': '7', b'8': '8', b'9': '9', b'10': '10'}) #Converting the classes into decimal classifications"
   ]
  },
  {
   "cell_type": "markdown",
   "metadata": {},
   "source": [
    "Gathering the training and test cases:"
   ]
  },
  {
   "cell_type": "code",
   "execution_count": 58,
   "metadata": {},
   "outputs": [],
   "source": [
    "X_train=ct_train.iloc[:, :-1].values\n",
    "y_train=ct_train.iloc[:, 24].values\n",
    "X_test=ct_test.iloc[:, :-1].values\n",
    "y_test=ct_test.iloc[:, 24].values"
   ]
  },
  {
   "cell_type": "markdown",
   "metadata": {},
   "source": [
    "We now call the eval_advance function again:"
   ]
  },
  {
   "cell_type": "code",
   "execution_count": 59,
   "metadata": {},
   "outputs": [],
   "source": [
    "results_adv2,results_adv2_chart,cnn_size,crr_size,p,q,p2,q2=eval_advance(X_train,y_train,X_test,y_test)"
   ]
  },
  {
   "cell_type": "markdown",
   "metadata": {},
   "source": [
    "# Advanced Analysis Results"
   ]
  },
  {
   "cell_type": "markdown",
   "metadata": {},
   "source": [
    "Calculating the average results over the two datasets:"
   ]
  },
  {
   "cell_type": "code",
   "execution_count": 72,
   "metadata": {},
   "outputs": [],
   "source": [
    "results_adv_average=pd.DataFrame()\n",
    "results_adv_average['Algorithms']=[\"None\",\"CNN\",\"CRR\"]\n",
    "#Calculating average results over both the datasets\n",
    "results_adv_average['Time wrt BF']=[(results_adv1_chart['Time wrt BF'][0]+results_adv2_chart['Time wrt BF'][0])/2,(results_adv1_chart['Time wrt BF'][1]+results_adv2_chart['Time wrt BF'][1])/2,(results_adv1_chart['Time wrt BF'][2]+results_adv2_chart['Time wrt BF'][2])/2]\n",
    "results_adv_average['Accuracy wrt BF']=[(results_adv1_chart['Accuracy wrt BF'][0]+results_adv2_chart['Accuracy wrt BF'][0])/2,(results_adv1_chart['Accuracy wrt BF'][1]+results_adv2_chart['Accuracy wrt BF'][1])/2,(results_adv1_chart['Accuracy wrt BF'][2]+results_adv2_chart['Accuracy wrt BF'][2])/2]\n",
    "results_adv_average['Dataset size wrt BF']=[(results_adv1_chart['Dataset size wrt BF'][0]+results_adv2_chart['Dataset size wrt BF'][0])/2,(results_adv1_chart['Dataset size wrt BF'][1]+results_adv2_chart['Dataset size wrt BF'][1])/2,(results_adv1_chart['Dataset size wrt BF'][2]+results_adv2_chart['Dataset size wrt BF'][2])/2]"
   ]
  },
  {
   "cell_type": "markdown",
   "metadata": {},
   "source": [
    "We save the results as CSV files:"
   ]
  },
  {
   "cell_type": "code",
   "execution_count": 73,
   "metadata": {},
   "outputs": [],
   "source": [
    "results_adv1.to_csv('results/results_adv1.csv')\n",
    "results_adv2.to_csv('results/results_adv2.csv')\n",
    "results_adv_average.to_csv('results/results_adv_average.csv')"
   ]
  },
  {
   "cell_type": "markdown",
   "metadata": {},
   "source": [
    "Visualising the results for the Smooth Subspace Dataset: "
   ]
  },
  {
   "cell_type": "code",
   "execution_count": 62,
   "metadata": {},
   "outputs": [
    {
     "data": {
      "image/png": "[encoded data removed]",
      "text/plain": [
       "<Figure size 432x288 with 1 Axes>"
      ]
     },
     "metadata": {
      "needs_background": "light"
     },
     "output_type": "display_data"
    }
   ],
   "source": [
    "barWidth = 0.25\n",
    "bars1=(results_adv1_chart[\"Time wrt BF\"].values)\n",
    "bars2=(results_adv1_chart[\"Accuracy wrt BF\"].values)\n",
    "bars3=(results_adv1_chart[\"Dataset size wrt BF\"].values)\n",
    "r1 = np.arange(len(bars1))\n",
    "r2 = [x + barWidth for x in r1]\n",
    "r3 = [x + barWidth for x in r2]\n",
    "#Preparing the Plot\n",
    "fig = plt.figure()\n",
    "ax = fig.add_axes([0.2, 0.15, 0.6, 0.6])\n",
    "plt.bar(r1, bars1, color='red', width=barWidth, edgecolor='white', label='Time')\n",
    "plt.bar(r2, bars2, color='blue', width=barWidth, edgecolor='white', label='Accuracy')\n",
    "plt.bar(r3, bars3, color='#2d7f5e', width=barWidth, edgecolor='white', label='Dataset Size')\n",
    "#Adding the labels\n",
    "plt.xlabel('Algorithm', fontweight='bold') \n",
    "plt.ylabel('Score w.r.t Brute Force k-NN', fontweight='bold')\n",
    "plt.xticks([r + barWidth for r in range(len(bars1))], ['Brute Force','CNN','CRR'])\n",
    "plt.gca().legend(loc='lower center', bbox_to_anchor=(0.5, 1)) #Placing the legend\n",
    "plt.savefig('results/dataset_adv_1_result.pdf')"
   ]
  },
  {
   "cell_type": "markdown",
   "metadata": {},
   "source": [
    "Visualising the results for the Chinatown Dataset:"
   ]
  },
  {
   "cell_type": "code",
   "execution_count": 63,
   "metadata": {},
   "outputs": [
    {
     "data": {
      "image/png": "[encoded data removed]",
      "text/plain": [
       "<Figure size 432x288 with 1 Axes>"
      ]
     },
     "metadata": {
      "needs_background": "light"
     },
     "output_type": "display_data"
    }
   ],
   "source": [
    "barWidth = 0.25\n",
    "bars1=(results_adv2_chart[\"Time wrt BF\"].values)\n",
    "bars2=(results_adv2_chart[\"Accuracy wrt BF\"].values)\n",
    "bars3=(results_adv2_chart[\"Dataset size wrt BF\"].values)\n",
    "r1 = np.arange(len(bars1))\n",
    "r2 = [x + barWidth for x in r1]\n",
    "r3 = [x + barWidth for x in r2]\n",
    "#Preparing the Plot\n",
    "fig = plt.figure()\n",
    "ax = fig.add_axes([0.2, 0.15, 0.6, 0.6])\n",
    "plt.bar(r1, bars1, color='red', width=barWidth, edgecolor='white', label='Time')\n",
    "plt.bar(r2, bars2, color='blue', width=barWidth, edgecolor='white', label='Accuracy')\n",
    "plt.bar(r3, bars3, color='#2d7f5e', width=barWidth, edgecolor='white', label='Dataset Size')\n",
    "#Adding the labels\n",
    "plt.xlabel('Algorithm', fontweight='bold') \n",
    "plt.ylabel('Score w.r.t Brute Force k-NN', fontweight='bold')\n",
    "plt.xticks([r + barWidth for r in range(len(bars1))], ['Brute Force','CNN','CRR'])\n",
    "plt.gca().legend(loc='lower center', bbox_to_anchor=(0.5, 1)) #Placing the legend\n",
    "plt.savefig('results/dataset_adv_2_result.pdf')"
   ]
  },
  {
   "cell_type": "markdown",
   "metadata": {},
   "source": [
    "Displaying the average results over the two datasets:"
   ]
  },
  {
   "cell_type": "code",
   "execution_count": 64,
   "metadata": {
    "scrolled": true
   },
   "outputs": [
    {
     "data": {
      "image/png": "[encoded data removed]",
      "text/plain": [
       "<Figure size 432x288 with 1 Axes>"
      ]
     },
     "metadata": {
      "needs_background": "light"
     },
     "output_type": "display_data"
    }
   ],
   "source": [
    "barWidth = 0.25\n",
    "bars1=(results_adv_average[\"Time wrt BF\"].values)\n",
    "bars2=(results_adv_average[\"Accuracy wrt BF\"].values)\n",
    "bars3=(results_adv_average[\"Dataset size wrt BF\"].values)\n",
    "r1 = np.arange(len(bars1))\n",
    "r2 = [x + barWidth for x in r1]\n",
    "r3 = [x + barWidth for x in r2]\n",
    "#Preparing the Plot\n",
    "fig = plt.figure()\n",
    "ax = fig.add_axes([0.2, 0.15, 0.6, 0.6])\n",
    "plt.bar(r1, bars1, color='red', width=barWidth, edgecolor='white', label='Time')\n",
    "plt.bar(r2, bars2, color='blue', width=barWidth, edgecolor='white', label='Accuracy')\n",
    "plt.bar(r3, bars3, color='#2d7f5e', width=barWidth, edgecolor='white', label='Dataset Size') \n",
    "#Adding the labels\n",
    "plt.xlabel('Algorithm', fontweight='bold') \n",
    "plt.ylabel('Score w.r.t Brute Force k-NN', fontweight='bold')\n",
    "plt.xticks([r + barWidth for r in range(len(bars1))], ['Brute Force','CNN','CRR'])\n",
    "plt.gca().legend(loc='lower center', bbox_to_anchor=(0.5, 1)) #Placing the legend\n",
    "plt.savefig('results/dataset_adv_average_result.pdf')  "
   ]
  },
  {
   "cell_type": "markdown",
   "metadata": {},
   "source": [
    "Displaying the average speed of the models trained on the edited case-bases produced by the different case-base editing algorithms:"
   ]
  },
  {
   "cell_type": "code",
   "execution_count": 65,
   "metadata": {},
   "outputs": [
    {
     "data": {
      "image/png": "[encoded data removed]",
      "text/plain": [
       "<Figure size 432x288 with 1 Axes>"
      ]
     },
     "metadata": {
      "needs_background": "light"
     },
     "output_type": "display_data"
    }
   ],
   "source": [
    "barWidth = 0.25\n",
    "bars1=(results_adv_average[\"Time wrt BF\"].values)\n",
    "r1 = np.arange(len(bars1))\n",
    "#Preparing the Plot\n",
    "plt.bar(r1, bars1, color='red', width=barWidth, edgecolor='white', label='Time')\n",
    "#Adding the labels\n",
    "plt.xlabel('Algorithm', fontweight='bold') \n",
    "plt.ylabel('Score w.r.t Brute Force k-NN', fontweight='bold')\n",
    "plt.xticks([r + barWidth for r in range(len(bars1))], ['Brute Force','CNN','CRR'])\n",
    "plt.gca().legend(loc='lower center', bbox_to_anchor=(0.5, 1)) #Placing the legend\n",
    "plt.savefig('results/dataset_adv_average_result_time.pdf')"
   ]
  },
  {
   "cell_type": "markdown",
   "metadata": {},
   "source": [
    "Displaying the average accuracy of the models trained on the edited case-bases produced by the different case-base editing algorithms:"
   ]
  },
  {
   "cell_type": "code",
   "execution_count": 66,
   "metadata": {
    "scrolled": true
   },
   "outputs": [
    {
     "data": {
      "image/png": "[encoded data removed]",
      "text/plain": [
       "<Figure size 432x288 with 1 Axes>"
      ]
     },
     "metadata": {
      "needs_background": "light"
     },
     "output_type": "display_data"
    }
   ],
   "source": [
    "barWidth=0.25\n",
    "bars1=(results_adv_average[\"Accuracy wrt BF\"].values)\n",
    "r1=np.arange(len(bars1))\n",
    "#Preparing the Plot\n",
    "plt.bar(r1, bars1, color='red', width=barWidth, edgecolor='white', label='Accuracy')\n",
    "#Adding the labels\n",
    "plt.xlabel('Algorithm', fontweight='bold') \n",
    "plt.ylabel('Score w.r.t Brute Force k-NN', fontweight='bold')\n",
    "plt.xticks([r + barWidth for r in range(len(bars1))], ['Brute Force','CNN','CRR'])\n",
    "plt.gca().legend(loc='lower center', bbox_to_anchor=(0.5, 1)) #Placing the legend\n",
    "plt.savefig('results/dataset_adv_average_result_time.pdf')"
   ]
  },
  {
   "cell_type": "markdown",
   "metadata": {},
   "source": [
    "# Conclusion:\n",
    "\n",
    "1. The CRR proved to be less aggressive than the CNN strategy and preserved the borderline cases which improved the prediction accuracy with a more balanced edited case-base as compared to CNN, while still being able to reduce the case-base size considerably and keeping the prediction time short. It even reduced the case-base size more than the CNN method in some datasets as seen in the results and still maintained a higher prediction accuracy than CNN.\n",
    "\n",
    "\n",
    "2. Dynamic Time Warping provided a non-linear alignment between two time-series, which resulted in a more accurate similarity measure between the two time-series. Given its advantages, it is computationally heavier than the Euclidean Distance Metric.\n",
    "\n",
    "\n",
    "3. The CRR algorithm performed more efficiently than the CNN algorithm in speed and accuracy for time-series. It produced a smaller case base than that of CNN, while still maintained to retain a balanced representation for each class label and the borderline and rare cases, which improved the prediction accuracy over CNN."
   ]
  }
 ],
 "metadata": {
  "kernelspec": {
   "display_name": "Python 3",
   "language": "python",
   "name": "python3"
  },
  "language_info": {
   "codemirror_mode": {
    "name": "ipython",
    "version": 3
   },
   "file_extension": ".py",
   "mimetype": "text/x-python",
   "name": "python",
   "nbconvert_exporter": "python",
   "pygments_lexer": "ipython3",
   "version": "3.7.4"
  }
 },
 "nbformat": 4,
 "nbformat_minor": 2
}
